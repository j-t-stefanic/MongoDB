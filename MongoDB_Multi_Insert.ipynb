{
 "cells": [
  {
   "cell_type": "code",
   "execution_count": 3,
   "id": "a4710610-7885-4cbd-be61-916336f40555",
   "metadata": {},
   "outputs": [
    {
     "name": "stdout",
     "output_type": "stream",
     "text": [
      "Successfully connected to MongoDB!\n",
      "Inserted document IDs: [ObjectId('68f6deca45d4d9d5a3057abe'), ObjectId('68f6deca45d4d9d5a3057abf'), ObjectId('68f6deca45d4d9d5a3057ac0')]\n",
      "MongoDB connection closed.\n"
     ]
    }
   ],
   "source": [
    "from pymongo import MongoClient\n",
    "\n",
    "# Replace with your MongoDB connection string\n",
    "# For a local instance: \"mongodb://localhost:27017/\"\n",
    "# For MongoDB Atlas: \"mongodb+srv://<username>:<password>@<cluster-url>/<database-name>?retryWrites=true&w=majority\"\n",
    "\n",
    "#Add your Connection String here\n",
    "\n",
    "try:\n",
    "    # Create a MongoClient object\n",
    "    client = MongoClient(CONNECTION_STRING)\n",
    "\n",
    "    # Access a specific database (it will be created if it doesn't exist upon first data insertion)\n",
    "    db = client[\"wine_db\"]\n",
    "\n",
    "    # Access a specific collection within the database\n",
    "    my_collection = db[\"wine_data_collection\"]\n",
    "\n",
    "    print(\"Successfully connected to MongoDB!\")\n",
    "\n",
    "    # Create a list of dictionaries, where each dictionary represents a document\n",
    "    documents_to_insert = [\n",
    "    {\"Id\": 2, \"Wine_Name\": \"Louis M Martini Cabernet Sauvignon\", \"Category\": 3, \"Vintage\": 2009, \"Producer\": \"Louis M Martini Winery\", \"UPS\": 85000011645},\n",
    "    {\"Id\": 3, \"Wine_Name\": \"Josh Legacy Red WIne\", \"Category\": 33, \"Vintage\": 2011, \"Producer\": \"Joseph Carr\", \"UPS\": 31259048024},\n",
    "    {\"Id\": 4, \"Wine_Name\": \"Simi Cabernet Sauvignon\", \"Category\": 3, \"Vintage\": 2012, \"Producer\": \"Simi Winery\", \"UPS\": 88415780557} \n",
    "     ]\n",
    "\n",
    "    # Insert the multiple documents\n",
    "    result = my_collection.insert_many(documents_to_insert)\n",
    "\n",
    "\n",
    "except Exception as e:\n",
    "    print(f\"Error connecting to MongoDB: {e}\")\n",
    "\n",
    "finally:\n",
    "    # Print the IDs of the inserted documents\n",
    "    print(f\"Inserted document IDs: {result.inserted_ids}\")\n",
    "\n",
    "    # Close the connection when done\n",
    "    if 'client' in locals() and client:\n",
    "        client.close()\n",
    "        print(\"MongoDB connection closed.\")\n"
   ]
  },
  {
   "cell_type": "code",
   "execution_count": null,
   "id": "e6077f4c-b6f8-4f00-bcc0-ec619cf1f29d",
   "metadata": {},
   "outputs": [],
   "source": []
  }
 ],
 "metadata": {
  "kernelspec": {
   "display_name": "Python 3 (ipykernel)",
   "language": "python",
   "name": "python3"
  },
  "language_info": {
   "codemirror_mode": {
    "name": "ipython",
    "version": 3
   },
   "file_extension": ".py",
   "mimetype": "text/x-python",
   "name": "python",
   "nbconvert_exporter": "python",
   "pygments_lexer": "ipython3",
   "version": "3.13.5"
  }
 },
 "nbformat": 4,
 "nbformat_minor": 5
}
