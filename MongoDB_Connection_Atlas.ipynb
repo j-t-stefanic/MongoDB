{
 "cells": [
  {
   "cell_type": "code",
   "execution_count": null,
   "id": "6a9d57fa-d177-4865-9cc3-f69e3bf15cf3",
   "metadata": {},
   "outputs": [],
   "source": [
    "from pymongo import MongoClient\n",
    "\n",
    "# Replace with your MongoDB connection string\n",
    "# For a local instance: \"mongodb://localhost:27017/\"\n",
    "# For MongoDB Atlas: \"mongodb+srv://<username>:<password>@<cluster-url>/<database-name>?retryWrites=true&w=majority\"\n",
    "\n",
    "#Add your Connection String here\n",
    "\n",
    "try:\n",
    "    # Create a MongoClient object\n",
    "    client = MongoClient(CONNECTION_STRING)\n",
    "\n",
    "    # Access a specific database (it will be created if it doesn't exist upon first data insertion)\n",
    "    db = client[\"wine_db\"]\n",
    "\n",
    "    # Access a specific collection within the database\n",
    "    my_collection = db[\"wine_data_collection\"]\n",
    "\n",
    "    print(\"Successfully connected to MongoDB!\")\n",
    "\n",
    "    # Example: Insert a document\n",
    "    my_collection.insert_one({\"Id\": 1, \"Wine_Name\": \"Summer In A Bottle\", \"Category\": 99, \"Vintage\": 2024, \"Producer\": \"Wolffer Estate\", \"UPS\": 644995140090})\n",
    "    print(\"Document inserted.\")\n",
    "\n",
    "    # Example: Find a document\n",
    "    document = my_collection.find_one({\"Wine_Name\": \"Summer In A Bottle\"})\n",
    "    print(f\"Found document: {document}\")\n",
    "\n",
    "except Exception as e:\n",
    "    print(f\"Error connecting to MongoDB: {e}\")\n",
    "\n",
    "finally:\n",
    "    # Close the connection when done\n",
    "    if 'client' in locals() and client:\n",
    "        client.close()\n",
    "        print(\"MongoDB connection closed.\")"
   ]
  }
 ],
 "metadata": {
  "kernelspec": {
   "display_name": "Python 3 (ipykernel)",
   "language": "python",
   "name": "python3"
  },
  "language_info": {
   "codemirror_mode": {
    "name": "ipython",
    "version": 3
   },
   "file_extension": ".py",
   "mimetype": "text/x-python",
   "name": "python",
   "nbconvert_exporter": "python",
   "pygments_lexer": "ipython3",
   "version": "3.13.5"
  }
 },
 "nbformat": 4,
 "nbformat_minor": 5
}

